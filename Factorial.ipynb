{
 "cells": [
  {
   "cell_type": "markdown",
   "metadata": {
    "collapsed": false
   },
   "source": [
    "### Describe the algorithm being used.\n",
    "The factorial program takes an integer as an argument. While the integer is bigger than zero, it keep multiplying it and assign to another variable fac in loops. Finally, it retuns an nth factorial integer.\n",
    "\n",
    "### Describe two problems with the current function definition.\n",
    "1. First, if the integer argument n is 0, it bypasses the while-loop and returns 0, not 1. This failed at test_fac_0() test.\n",
    "2. Second, when the integer 1 decrements to 0 inside the while-loop, it eventually results in returning the fac as 0 because it is being multiplied with the final decrement 0. \n",
    "\n",
    "### Describe how you can fix those problems.\n",
    "We can fix this add two if-statements:\n",
    "1. First, if (n==0) { fac = 1 }.\n",
    "2. Second, if (n==1) { break; }."
   ]
  },
  {
   "cell_type": "code",
   "execution_count": 0,
   "metadata": {
    "collapsed": false
   },
   "outputs": [
   ],
   "source": [
   ]
  }
 ],
 "metadata": {
  "kernelspec": {
   "display_name": "Julia",
   "language": "julia",
   "name": "julia"
  },
  "language_info": {
   "file_extension": ".jl",
   "mimetype": "application/julia",
   "name": "julia",
   "version": "0.6.0"
  }
 },
 "nbformat": 4,
 "nbformat_minor": 0
}