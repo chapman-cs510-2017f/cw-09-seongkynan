{
 "cells": [
  {
   "cell_type": "markdown",
   "metadata": {
    "collapsed": false
   },
   "source": [
    "### Describe what the purpose of a Makefile is\n",
    "C program must be compiled to machine code first in order to run. The process of compiling can include multiple build steps and stages. Makefile can automate those build tasks so that the compiling can be efficient.\n",
    "\n",
    "### Describe how the code is organized here. Why is this a reasonable structure?\n",
    "The targets are separated for different build tasks. First, the builds are separated into two folders (src and test). And in the deeper lever, the test build is again separated into different targets, like all, test, clean. In this way, Makefiles are logically oraganized and can be chosen as we want to specifically target. \n",
    "\n",
    "### Describe what a header file is.\n",
    "C programs consits of many procedural functions. A header file declares the function signatures that are found in source files. Its primary goal is to block the errors that the functions in source codes might happen because of the wrong orders of their apperances. During the compilation, if a function is not called before it is defined, it will throw an errors. A header file prevents the issue, putting the types of all functions beforehand. \n",
    " \n",
    "### Describe what a source file is.\n",
    "A source file contain the codes that will be compiled. It contains all your program logics. \n",
    "\n",
    "### Describe what an object file is.\n",
    "An object file is the output of the compilations of source files. The file can be later re-used in another source file by linking. For example, gcc compiler compiles like this, `gcc -c -o program program.c.` The flag c creates an object file program.o. \n",
    "\n",
    "### Describe what compiling is.\n",
    "The compiling is the process of building the source code readable to machines. \n",
    "\n",
    "#### Describe what linking is.\n",
    "When the C code is being compiled, we can focus on two stages, 1) creating an object file and linking it to an executable. For example, `gcc -o program program.o`"
   ]
  }
 ],
 "metadata": {
  "kernelspec": {
   "display_name": "Julia",
   "language": "julia",
   "name": "julia"
  },
  "language_info": {
   "file_extension": ".jl",
   "mimetype": "application/julia",
   "name": "julia",
   "version": "0.6.0"
  }
 },
 "nbformat": 4,
 "nbformat_minor": 0
}